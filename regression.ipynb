{
 "cells": [
  {
   "cell_type": "markdown",
   "id": "2b639f0b",
   "metadata": {},
   "source": [
    "# 7.\tWrite a python program to fit a multiple   regression model for any given data."
   ]
  },
  {
   "cell_type": "code",
   "execution_count": 21,
   "id": "f2aeb5bd",
   "metadata": {},
   "outputs": [
    {
     "name": "stdout",
     "output_type": "stream",
     "text": [
      "Enter x1 values:-5 -4 -1 2 2 3 3\n",
      "Enter x2 values:5 4 1 -3 -2 -2 -3\n",
      "Enter y values: 11 11 8 2 5 5 4\n",
      "[[11.]\n",
      " [11.]\n",
      " [ 8.]\n",
      " [ 2.]\n",
      " [ 5.]\n",
      " [ 5.]\n",
      " [ 4.]]\n",
      "(7, 1)\n",
      "[[1.]\n",
      " [1.]\n",
      " [1.]\n",
      " [1.]\n",
      " [1.]\n",
      " [1.]\n",
      " [1.]]\n",
      "[[ 1. -5.  5.]\n",
      " [ 1. -4.  4.]\n",
      " [ 1. -1.  1.]\n",
      " [ 1.  2. -3.]\n",
      " [ 1.  2. -2.]\n",
      " [ 1.  3. -2.]\n",
      " [ 1.  3. -3.]]\n"
     ]
    }
   ],
   "source": [
    "import numpy as np\n",
    "\n",
    "def myMean(data):\n",
    "    mean = 0\n",
    "    for i in np.nditer(data):\n",
    "        mean += i\n",
    "    mean /= len(data)\n",
    "    return mean\n",
    "\n",
    "def det(mat):\n",
    "    v1 = mat[0,0] * ((mat[1,1] * mat[2,2]) - (mat[1,2] * mat[2,1]))\n",
    "    v2 = -mat[0,1] * ((mat[1,0] * mat[2,2]) - (mat[1,2] * mat[2,0]))\n",
    "    v3 = mat[0,2] * ((mat[1,0] * mat[2,1]) - (mat[1,1] * mat[2,0]))\n",
    "    return v1+v2+v3\n",
    "\n",
    "def transpose(mat):\n",
    "    \n",
    "x1 = np.array([[float(i)] for i in input(\"Enter x1 values:\").split()])\n",
    "#-5 -4 -1 2 2 3 3\n",
    "\n",
    "x2 = np.array([[float(i)] for i in input(\"Enter x2 values:\").split()])\n",
    "#5 4 1 -3 -2 -2 -3\n",
    "\n",
    "y = np.array([[float(i)] for i in input(\"Enter y values: \").split()])\n",
    "#11 11 8 2 5 5 4\n",
    "print(y)\n",
    "\n",
    "size = np.shape(x1)\n",
    "print(size)\n",
    "\n",
    "ones = np.array(np.ones(size))\n",
    "print(ones)\n",
    "\n",
    "x = np.hstack((ones,x1))\n",
    "x = np.hstack((x,x2))\n",
    "print(x)"
   ]
  },
  {
   "cell_type": "code",
   "execution_count": 33,
   "id": "6389b5d8",
   "metadata": {},
   "outputs": [
    {
     "name": "stdout",
     "output_type": "stream",
     "text": [
      "[[[2 0 0]\n",
      "  [3 4 5]\n",
      "  [6 7 8]]]\n"
     ]
    },
    {
     "ename": "IndexError",
     "evalue": "index 1 is out of bounds for axis 0 with size 1",
     "output_type": "error",
     "traceback": [
      "\u001b[1;31m---------------------------------------------------------------------------\u001b[0m",
      "\u001b[1;31mIndexError\u001b[0m                                Traceback (most recent call last)",
      "\u001b[1;32m~\\AppData\\Local\\Temp/ipykernel_8084/198265740.py\u001b[0m in \u001b[0;36m<module>\u001b[1;34m\u001b[0m\n\u001b[0;32m      1\u001b[0m \u001b[0mmat\u001b[0m  \u001b[1;33m=\u001b[0m \u001b[0mnp\u001b[0m\u001b[1;33m.\u001b[0m\u001b[0marray\u001b[0m\u001b[1;33m(\u001b[0m\u001b[1;33m[\u001b[0m\u001b[1;33m[\u001b[0m\u001b[1;33m[\u001b[0m\u001b[1;36m2\u001b[0m\u001b[1;33m,\u001b[0m\u001b[1;36m0\u001b[0m\u001b[1;33m,\u001b[0m\u001b[1;36m0\u001b[0m\u001b[1;33m]\u001b[0m\u001b[1;33m,\u001b[0m\u001b[1;33m[\u001b[0m\u001b[1;36m3\u001b[0m\u001b[1;33m,\u001b[0m\u001b[1;36m4\u001b[0m\u001b[1;33m,\u001b[0m\u001b[1;36m5\u001b[0m\u001b[1;33m]\u001b[0m\u001b[1;33m,\u001b[0m\u001b[1;33m[\u001b[0m\u001b[1;36m6\u001b[0m\u001b[1;33m,\u001b[0m\u001b[1;36m7\u001b[0m\u001b[1;33m,\u001b[0m\u001b[1;36m8\u001b[0m\u001b[1;33m]\u001b[0m\u001b[1;33m]\u001b[0m\u001b[1;33m]\u001b[0m\u001b[1;33m)\u001b[0m\u001b[1;33m\u001b[0m\u001b[1;33m\u001b[0m\u001b[0m\n\u001b[0;32m      2\u001b[0m \u001b[0mprint\u001b[0m\u001b[1;33m(\u001b[0m\u001b[0mmat\u001b[0m\u001b[1;33m)\u001b[0m\u001b[1;33m\u001b[0m\u001b[1;33m\u001b[0m\u001b[0m\n\u001b[1;32m----> 3\u001b[1;33m \u001b[0mmat\u001b[0m\u001b[1;33m[\u001b[0m\u001b[1;36m0\u001b[0m\u001b[1;33m,\u001b[0m\u001b[1;36m1\u001b[0m\u001b[1;33m]\u001b[0m \u001b[1;33m=\u001b[0m \u001b[0mmat\u001b[0m\u001b[1;33m[\u001b[0m\u001b[1;36m1\u001b[0m\u001b[1;33m,\u001b[0m\u001b[1;36m0\u001b[0m\u001b[1;33m]\u001b[0m\u001b[1;33m\u001b[0m\u001b[1;33m\u001b[0m\u001b[0m\n\u001b[0m",
      "\u001b[1;31mIndexError\u001b[0m: index 1 is out of bounds for axis 0 with size 1"
     ]
    }
   ],
   "source": [
    "\n",
    "mat  = np.array([[[2,0,0],[3,4,5],[6,7,8]]])\n",
    "print(mat)\n",
    " "
   ]
  },
  {
   "cell_type": "markdown",
   "id": "f4e4a956",
   "metadata": {},
   "source": []
  },
  {
   "cell_type": "code",
   "execution_count": null,
   "id": "e1c2e4a2",
   "metadata": {},
   "outputs": [],
   "source": []
  }
 ],
 "metadata": {
  "kernelspec": {
   "display_name": "Python 3 (ipykernel)",
   "language": "python",
   "name": "python3"
  },
  "language_info": {
   "codemirror_mode": {
    "name": "ipython",
    "version": 3
   },
   "file_extension": ".py",
   "mimetype": "text/x-python",
   "name": "python",
   "nbconvert_exporter": "python",
   "pygments_lexer": "ipython3",
   "version": "3.9.7"
  }
 },
 "nbformat": 4,
 "nbformat_minor": 5
}
